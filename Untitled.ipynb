{
 "cells": [
  {
   "cell_type": "code",
   "execution_count": 1,
   "id": "d6f05b45-30f1-45ab-a58d-640ef35f1423",
   "metadata": {},
   "outputs": [],
   "source": [
    "import ccxt"
   ]
  },
  {
   "cell_type": "code",
   "execution_count": 2,
   "id": "5f81aea4-6e0e-45f3-ab0b-7984c4dd1408",
   "metadata": {},
   "outputs": [],
   "source": [
    "exchange = ccxt.bybit()"
   ]
  },
  {
   "cell_type": "code",
   "execution_count": 3,
   "id": "0057bc73-df52-4503-91ff-ddda8a32f4d5",
   "metadata": {},
   "outputs": [
    {
     "name": "stdout",
     "output_type": "stream",
     "text": [
      "Requirement already satisfied: ccxt in /Library/Frameworks/Python.framework/Versions/3.10/lib/python3.10/site-packages (2.4.80)\n",
      "Requirement already satisfied: certifi>=2018.1.18 in /Library/Frameworks/Python.framework/Versions/3.10/lib/python3.10/site-packages (from ccxt) (2022.5.18.1)\n",
      "Requirement already satisfied: yarl>=1.7.2 in /Library/Frameworks/Python.framework/Versions/3.10/lib/python3.10/site-packages (from ccxt) (1.7.2)\n",
      "Requirement already satisfied: cryptography>=2.6.1 in /Library/Frameworks/Python.framework/Versions/3.10/lib/python3.10/site-packages (from ccxt) (38.0.4)\n",
      "Requirement already satisfied: aiohttp>=3.8 in /Library/Frameworks/Python.framework/Versions/3.10/lib/python3.10/site-packages (from ccxt) (3.8.1)\n",
      "Requirement already satisfied: requests>=2.18.4 in /Library/Frameworks/Python.framework/Versions/3.10/lib/python3.10/site-packages (from ccxt) (2.28.1)\n",
      "Requirement already satisfied: aiodns>=1.1.1 in /Library/Frameworks/Python.framework/Versions/3.10/lib/python3.10/site-packages (from ccxt) (3.0.0)\n",
      "Requirement already satisfied: setuptools>=60.9.0 in /Library/Frameworks/Python.framework/Versions/3.10/lib/python3.10/site-packages (from ccxt) (62.3.2)\n",
      "Requirement already satisfied: pycares>=4.0.0 in /Library/Frameworks/Python.framework/Versions/3.10/lib/python3.10/site-packages (from aiodns>=1.1.1->ccxt) (4.3.0)\n",
      "Requirement already satisfied: attrs>=17.3.0 in /Library/Frameworks/Python.framework/Versions/3.10/lib/python3.10/site-packages (from aiohttp>=3.8->ccxt) (21.4.0)\n",
      "Requirement already satisfied: multidict<7.0,>=4.5 in /Library/Frameworks/Python.framework/Versions/3.10/lib/python3.10/site-packages (from aiohttp>=3.8->ccxt) (6.0.2)\n",
      "Requirement already satisfied: async-timeout<5.0,>=4.0.0a3 in /Library/Frameworks/Python.framework/Versions/3.10/lib/python3.10/site-packages (from aiohttp>=3.8->ccxt) (4.0.2)\n",
      "Requirement already satisfied: aiosignal>=1.1.2 in /Library/Frameworks/Python.framework/Versions/3.10/lib/python3.10/site-packages (from aiohttp>=3.8->ccxt) (1.2.0)\n",
      "Requirement already satisfied: charset-normalizer<3.0,>=2.0 in /Library/Frameworks/Python.framework/Versions/3.10/lib/python3.10/site-packages (from aiohttp>=3.8->ccxt) (2.0.12)\n",
      "Requirement already satisfied: frozenlist>=1.1.1 in /Library/Frameworks/Python.framework/Versions/3.10/lib/python3.10/site-packages (from aiohttp>=3.8->ccxt) (1.3.0)\n",
      "Requirement already satisfied: cffi>=1.12 in /Library/Frameworks/Python.framework/Versions/3.10/lib/python3.10/site-packages (from cryptography>=2.6.1->ccxt) (1.15.1)\n",
      "Requirement already satisfied: urllib3<1.27,>=1.21.1 in /Library/Frameworks/Python.framework/Versions/3.10/lib/python3.10/site-packages (from requests>=2.18.4->ccxt) (1.26.9)\n",
      "Requirement already satisfied: idna<4,>=2.5 in /Library/Frameworks/Python.framework/Versions/3.10/lib/python3.10/site-packages (from requests>=2.18.4->ccxt) (3.3)\n",
      "Requirement already satisfied: pycparser in /Library/Frameworks/Python.framework/Versions/3.10/lib/python3.10/site-packages (from cffi>=1.12->cryptography>=2.6.1->ccxt) (2.21)\n",
      "\n",
      "\u001b[1m[\u001b[0m\u001b[34;49mnotice\u001b[0m\u001b[1;39;49m]\u001b[0m\u001b[39;49m A new release of pip available: \u001b[0m\u001b[31;49m22.3.1\u001b[0m\u001b[39;49m -> \u001b[0m\u001b[32;49m23.0\u001b[0m\n",
      "\u001b[1m[\u001b[0m\u001b[34;49mnotice\u001b[0m\u001b[1;39;49m]\u001b[0m\u001b[39;49m To update, run: \u001b[0m\u001b[32;49mpip install --upgrade pip\u001b[0m\n",
      "Note: you may need to restart the kernel to use updated packages.\n"
     ]
    }
   ],
   "source": [
    "pip install ccxt"
   ]
  },
  {
   "cell_type": "code",
   "execution_count": 4,
   "id": "b6879355-3c8b-4a86-bfe4-c90acc1ce610",
   "metadata": {},
   "outputs": [
    {
     "ename": "NameError",
     "evalue": "name 'bybit' is not defined",
     "output_type": "error",
     "traceback": [
      "\u001b[0;31m---------------------------------------------------------------------------\u001b[0m",
      "\u001b[0;31mNameError\u001b[0m                                 Traceback (most recent call last)",
      "Cell \u001b[0;32mIn[4], line 1\u001b[0m\n\u001b[0;32m----> 1\u001b[0m \u001b[43mbybit\u001b[49m\u001b[38;5;241m.\u001b[39mfetch_positions()\n",
      "\u001b[0;31mNameError\u001b[0m: name 'bybit' is not defined"
     ]
    }
   ],
   "source": [
    "bybit.fetch_positions()"
   ]
  },
  {
   "cell_type": "code",
   "execution_count": 5,
   "id": "690fbedb-1103-4fe8-b813-88d85c83636c",
   "metadata": {},
   "outputs": [
    {
     "ename": "AuthenticationError",
     "evalue": "bybit requires \"apiKey\" credential",
     "output_type": "error",
     "traceback": [
      "\u001b[0;31m---------------------------------------------------------------------------\u001b[0m",
      "\u001b[0;31mAuthenticationError\u001b[0m                       Traceback (most recent call last)",
      "Cell \u001b[0;32mIn[5], line 1\u001b[0m\n\u001b[0;32m----> 1\u001b[0m \u001b[43mexchange\u001b[49m\u001b[38;5;241;43m.\u001b[39;49m\u001b[43mfetch_positions\u001b[49m\u001b[43m(\u001b[49m\u001b[43m)\u001b[49m\n",
      "File \u001b[0;32m/Library/Frameworks/Python.framework/Versions/3.10/lib/python3.10/site-packages/ccxt/bybit.py:5790\u001b[0m, in \u001b[0;36mbybit.fetch_positions\u001b[0;34m(self, symbols, params)\u001b[0m\n\u001b[1;32m   5788\u001b[0m \u001b[38;5;28mself\u001b[39m\u001b[38;5;241m.\u001b[39mload_markets()\n\u001b[1;32m   5789\u001b[0m symbols \u001b[38;5;241m=\u001b[39m \u001b[38;5;28mself\u001b[39m\u001b[38;5;241m.\u001b[39mmarket_symbols(symbols)\n\u001b[0;32m-> 5790\u001b[0m enableUnifiedMargin \u001b[38;5;241m=\u001b[39m \u001b[38;5;28;43mself\u001b[39;49m\u001b[38;5;241;43m.\u001b[39;49m\u001b[43mis_unified_margin_enabled\u001b[49m\u001b[43m(\u001b[49m\u001b[43m)\u001b[49m\n\u001b[1;32m   5791\u001b[0m settle \u001b[38;5;241m=\u001b[39m \u001b[38;5;28mself\u001b[39m\u001b[38;5;241m.\u001b[39msafe_string(params, \u001b[38;5;124m'\u001b[39m\u001b[38;5;124msettleCoin\u001b[39m\u001b[38;5;124m'\u001b[39m)\n\u001b[1;32m   5792\u001b[0m \u001b[38;5;28;01mif\u001b[39;00m settle \u001b[38;5;129;01mis\u001b[39;00m \u001b[38;5;28;01mNone\u001b[39;00m:\n",
      "File \u001b[0;32m/Library/Frameworks/Python.framework/Versions/3.10/lib/python3.10/site-packages/ccxt/bybit.py:850\u001b[0m, in \u001b[0;36mbybit.is_unified_margin_enabled\u001b[0;34m(self, params)\u001b[0m\n\u001b[1;32m    848\u001b[0m enableUnifiedMargin \u001b[38;5;241m=\u001b[39m \u001b[38;5;28mself\u001b[39m\u001b[38;5;241m.\u001b[39msafe_value(\u001b[38;5;28mself\u001b[39m\u001b[38;5;241m.\u001b[39moptions, \u001b[38;5;124m'\u001b[39m\u001b[38;5;124menableUnifiedMargin\u001b[39m\u001b[38;5;124m'\u001b[39m)\n\u001b[1;32m    849\u001b[0m \u001b[38;5;28;01mif\u001b[39;00m enableUnifiedMargin \u001b[38;5;129;01mis\u001b[39;00m \u001b[38;5;28;01mNone\u001b[39;00m:\n\u001b[0;32m--> 850\u001b[0m     response \u001b[38;5;241m=\u001b[39m \u001b[38;5;28;43mself\u001b[39;49m\u001b[38;5;241;43m.\u001b[39;49m\u001b[43mprivateGetUserV3PrivateQueryApi\u001b[49m\u001b[43m(\u001b[49m\u001b[43mparams\u001b[49m\u001b[43m)\u001b[49m\n\u001b[1;32m    851\u001b[0m     \u001b[38;5;66;03m#\u001b[39;00m\n\u001b[1;32m    852\u001b[0m     \u001b[38;5;66;03m#     {\u001b[39;00m\n\u001b[1;32m    853\u001b[0m     \u001b[38;5;66;03m#         \"retCode\":0,\u001b[39;00m\n\u001b[0;32m   (...)\u001b[0m\n\u001b[1;32m    881\u001b[0m     \u001b[38;5;66;03m#     }\u001b[39;00m\n\u001b[1;32m    882\u001b[0m     \u001b[38;5;66;03m#\u001b[39;00m\n\u001b[1;32m    883\u001b[0m     result \u001b[38;5;241m=\u001b[39m \u001b[38;5;28mself\u001b[39m\u001b[38;5;241m.\u001b[39msafe_value(response, \u001b[38;5;124m'\u001b[39m\u001b[38;5;124mresult\u001b[39m\u001b[38;5;124m'\u001b[39m, {})\n",
      "File \u001b[0;32m/Library/Frameworks/Python.framework/Versions/3.10/lib/python3.10/site-packages/ccxt/base/exchange.py:502\u001b[0m, in \u001b[0;36mExchange.define_rest_api_endpoint.<locals>.partialer.<locals>.inner\u001b[0;34m(_self, params, context)\u001b[0m\n\u001b[1;32m    500\u001b[0m \u001b[38;5;28;01mif\u001b[39;00m context \u001b[38;5;129;01mis\u001b[39;00m \u001b[38;5;129;01mnot\u001b[39;00m \u001b[38;5;28;01mNone\u001b[39;00m:\n\u001b[1;32m    501\u001b[0m     inner_kwargs[\u001b[38;5;124m'\u001b[39m\u001b[38;5;124mcontext\u001b[39m\u001b[38;5;124m'\u001b[39m] \u001b[38;5;241m=\u001b[39m params\n\u001b[0;32m--> 502\u001b[0m \u001b[38;5;28;01mreturn\u001b[39;00m \u001b[43mentry\u001b[49m\u001b[43m(\u001b[49m\u001b[43m_self\u001b[49m\u001b[43m,\u001b[49m\u001b[43m \u001b[49m\u001b[38;5;241;43m*\u001b[39;49m\u001b[38;5;241;43m*\u001b[39;49m\u001b[43minner_kwargs\u001b[49m\u001b[43m)\u001b[49m\n",
      "File \u001b[0;32m/Library/Frameworks/Python.framework/Versions/3.10/lib/python3.10/site-packages/ccxt/base/exchange.py:2805\u001b[0m, in \u001b[0;36mExchange.request\u001b[0;34m(self, path, api, method, params, headers, body, config, context)\u001b[0m\n\u001b[1;32m   2804\u001b[0m \u001b[38;5;28;01mdef\u001b[39;00m \u001b[38;5;21mrequest\u001b[39m(\u001b[38;5;28mself\u001b[39m, path, api\u001b[38;5;241m=\u001b[39m\u001b[38;5;124m'\u001b[39m\u001b[38;5;124mpublic\u001b[39m\u001b[38;5;124m'\u001b[39m, method\u001b[38;5;241m=\u001b[39m\u001b[38;5;124m'\u001b[39m\u001b[38;5;124mGET\u001b[39m\u001b[38;5;124m'\u001b[39m, params\u001b[38;5;241m=\u001b[39m{}, headers\u001b[38;5;241m=\u001b[39m\u001b[38;5;28;01mNone\u001b[39;00m, body\u001b[38;5;241m=\u001b[39m\u001b[38;5;28;01mNone\u001b[39;00m, config\u001b[38;5;241m=\u001b[39m{}, context\u001b[38;5;241m=\u001b[39m{}):\n\u001b[0;32m-> 2805\u001b[0m     \u001b[38;5;28;01mreturn\u001b[39;00m \u001b[38;5;28;43mself\u001b[39;49m\u001b[38;5;241;43m.\u001b[39;49m\u001b[43mfetch2\u001b[49m\u001b[43m(\u001b[49m\u001b[43mpath\u001b[49m\u001b[43m,\u001b[49m\u001b[43m \u001b[49m\u001b[43mapi\u001b[49m\u001b[43m,\u001b[49m\u001b[43m \u001b[49m\u001b[43mmethod\u001b[49m\u001b[43m,\u001b[49m\u001b[43m \u001b[49m\u001b[43mparams\u001b[49m\u001b[43m,\u001b[49m\u001b[43m \u001b[49m\u001b[43mheaders\u001b[49m\u001b[43m,\u001b[49m\u001b[43m \u001b[49m\u001b[43mbody\u001b[49m\u001b[43m,\u001b[49m\u001b[43m \u001b[49m\u001b[43mconfig\u001b[49m\u001b[43m,\u001b[49m\u001b[43m \u001b[49m\u001b[43mcontext\u001b[49m\u001b[43m)\u001b[49m\n",
      "File \u001b[0;32m/Library/Frameworks/Python.framework/Versions/3.10/lib/python3.10/site-packages/ccxt/base/exchange.py:2801\u001b[0m, in \u001b[0;36mExchange.fetch2\u001b[0;34m(self, path, api, method, params, headers, body, config, context)\u001b[0m\n\u001b[1;32m   2799\u001b[0m     \u001b[38;5;28mself\u001b[39m\u001b[38;5;241m.\u001b[39mthrottle(cost)\n\u001b[1;32m   2800\u001b[0m \u001b[38;5;28mself\u001b[39m\u001b[38;5;241m.\u001b[39mlastRestRequestTimestamp \u001b[38;5;241m=\u001b[39m \u001b[38;5;28mself\u001b[39m\u001b[38;5;241m.\u001b[39mmilliseconds()\n\u001b[0;32m-> 2801\u001b[0m request \u001b[38;5;241m=\u001b[39m \u001b[38;5;28;43mself\u001b[39;49m\u001b[38;5;241;43m.\u001b[39;49m\u001b[43msign\u001b[49m\u001b[43m(\u001b[49m\u001b[43mpath\u001b[49m\u001b[43m,\u001b[49m\u001b[43m \u001b[49m\u001b[43mapi\u001b[49m\u001b[43m,\u001b[49m\u001b[43m \u001b[49m\u001b[43mmethod\u001b[49m\u001b[43m,\u001b[49m\u001b[43m \u001b[49m\u001b[43mparams\u001b[49m\u001b[43m,\u001b[49m\u001b[43m \u001b[49m\u001b[43mheaders\u001b[49m\u001b[43m,\u001b[49m\u001b[43m \u001b[49m\u001b[43mbody\u001b[49m\u001b[43m)\u001b[49m\n\u001b[1;32m   2802\u001b[0m \u001b[38;5;28;01mreturn\u001b[39;00m \u001b[38;5;28mself\u001b[39m\u001b[38;5;241m.\u001b[39mfetch(request[\u001b[38;5;124m'\u001b[39m\u001b[38;5;124murl\u001b[39m\u001b[38;5;124m'\u001b[39m], request[\u001b[38;5;124m'\u001b[39m\u001b[38;5;124mmethod\u001b[39m\u001b[38;5;124m'\u001b[39m], request[\u001b[38;5;124m'\u001b[39m\u001b[38;5;124mheaders\u001b[39m\u001b[38;5;124m'\u001b[39m], request[\u001b[38;5;124m'\u001b[39m\u001b[38;5;124mbody\u001b[39m\u001b[38;5;124m'\u001b[39m])\n",
      "File \u001b[0;32m/Library/Frameworks/Python.framework/Versions/3.10/lib/python3.10/site-packages/ccxt/bybit.py:6594\u001b[0m, in \u001b[0;36mbybit.sign\u001b[0;34m(self, path, api, method, params, headers, body)\u001b[0m\n\u001b[1;32m   6592\u001b[0m         url \u001b[38;5;241m+\u001b[39m\u001b[38;5;241m=\u001b[39m \u001b[38;5;124m'\u001b[39m\u001b[38;5;124m?\u001b[39m\u001b[38;5;124m'\u001b[39m \u001b[38;5;241m+\u001b[39m \u001b[38;5;28mself\u001b[39m\u001b[38;5;241m.\u001b[39mrawencode(params)\n\u001b[1;32m   6593\u001b[0m \u001b[38;5;28;01melif\u001b[39;00m api \u001b[38;5;241m==\u001b[39m \u001b[38;5;124m'\u001b[39m\u001b[38;5;124mprivate\u001b[39m\u001b[38;5;124m'\u001b[39m:\n\u001b[0;32m-> 6594\u001b[0m     \u001b[38;5;28;43mself\u001b[39;49m\u001b[38;5;241;43m.\u001b[39;49m\u001b[43mcheck_required_credentials\u001b[49m\u001b[43m(\u001b[49m\u001b[43m)\u001b[49m\n\u001b[1;32m   6595\u001b[0m     isOpenapi \u001b[38;5;241m=\u001b[39m url\u001b[38;5;241m.\u001b[39mfind(\u001b[38;5;124m'\u001b[39m\u001b[38;5;124mopenapi\u001b[39m\u001b[38;5;124m'\u001b[39m) \u001b[38;5;241m>\u001b[39m\u001b[38;5;241m=\u001b[39m \u001b[38;5;241m0\u001b[39m\n\u001b[1;32m   6596\u001b[0m     isV3UnifiedMargin \u001b[38;5;241m=\u001b[39m url\u001b[38;5;241m.\u001b[39mfind(\u001b[38;5;124m'\u001b[39m\u001b[38;5;124munified/v3\u001b[39m\u001b[38;5;124m'\u001b[39m) \u001b[38;5;241m>\u001b[39m\u001b[38;5;241m=\u001b[39m \u001b[38;5;241m0\u001b[39m\n",
      "File \u001b[0;32m/Library/Frameworks/Python.framework/Versions/3.10/lib/python3.10/site-packages/ccxt/base/exchange.py:2958\u001b[0m, in \u001b[0;36mExchange.check_required_credentials\u001b[0;34m(self, error)\u001b[0m\n\u001b[1;32m   2956\u001b[0m \u001b[38;5;28;01mif\u001b[39;00m \u001b[38;5;28mself\u001b[39m\u001b[38;5;241m.\u001b[39mrequiredCredentials[key] \u001b[38;5;129;01mand\u001b[39;00m \u001b[38;5;129;01mnot\u001b[39;00m \u001b[38;5;28mgetattr\u001b[39m(\u001b[38;5;28mself\u001b[39m, key):\n\u001b[1;32m   2957\u001b[0m     \u001b[38;5;28;01mif\u001b[39;00m error:\n\u001b[0;32m-> 2958\u001b[0m         \u001b[38;5;28;01mraise\u001b[39;00m AuthenticationError(\u001b[38;5;28mself\u001b[39m\u001b[38;5;241m.\u001b[39mid \u001b[38;5;241m+\u001b[39m \u001b[38;5;124m'\u001b[39m\u001b[38;5;124m requires \u001b[39m\u001b[38;5;124m\"\u001b[39m\u001b[38;5;124m'\u001b[39m \u001b[38;5;241m+\u001b[39m key \u001b[38;5;241m+\u001b[39m \u001b[38;5;124m'\u001b[39m\u001b[38;5;124m\"\u001b[39m\u001b[38;5;124m credential\u001b[39m\u001b[38;5;124m'\u001b[39m)\n\u001b[1;32m   2959\u001b[0m     \u001b[38;5;28;01melse\u001b[39;00m:\n\u001b[1;32m   2960\u001b[0m         \u001b[38;5;28;01mreturn\u001b[39;00m \u001b[38;5;28;01mFalse\u001b[39;00m\n",
      "\u001b[0;31mAuthenticationError\u001b[0m: bybit requires \"apiKey\" credential"
     ]
    }
   ],
   "source": [
    "exchange.fetch_positions()"
   ]
  },
  {
   "cell_type": "code",
   "execution_count": null,
   "id": "59fe7e23-4aa2-41f0-a649-bea9d2813470",
   "metadata": {},
   "outputs": [],
   "source": []
  }
 ],
 "metadata": {
  "kernelspec": {
   "display_name": "Python 3 (ipykernel)",
   "language": "python",
   "name": "python3"
  },
  "language_info": {
   "codemirror_mode": {
    "name": "ipython",
    "version": 3
   },
   "file_extension": ".py",
   "mimetype": "text/x-python",
   "name": "python",
   "nbconvert_exporter": "python",
   "pygments_lexer": "ipython3",
   "version": "3.10.4"
  }
 },
 "nbformat": 4,
 "nbformat_minor": 5
}
